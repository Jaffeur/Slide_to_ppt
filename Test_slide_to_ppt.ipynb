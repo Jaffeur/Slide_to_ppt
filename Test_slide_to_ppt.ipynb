{
 "cells": [
  {
   "cell_type": "markdown",
   "metadata": {},
   "source": [
    "##1. Crawl slides"
   ]
  },
  {
   "cell_type": "code",
   "execution_count": 2,
   "metadata": {
    "collapsed": true
   },
   "outputs": [],
   "source": [
    "from bs4 import BeautifulSoup\n",
    "import requests\n",
    "import sys, re, getopt, string, urllib, cStringIO, os\n",
    "from PIL import Image\n",
    "from matplotlib.pyplot import imshow\n",
    "import numpy as np\n",
    "%matplotlib inline\n",
    "from pptx import Presentation\n",
    "from pptx.util import Inches"
   ]
  },
  {
   "cell_type": "code",
   "execution_count": 11,
   "metadata": {
    "collapsed": false
   },
   "outputs": [],
   "source": [
    "\n",
    "class Slide_to_ppt:\n",
    "\n",
    "    def __init__(self, url, outname):\n",
    "        self.url = url\n",
    "        #new slides\n",
    "        self.prs = Presentation()\n",
    "        self.title_slide_layout = self.prs.slide_layouts[0]\n",
    "        \n",
    "        self.get_slide_images()\n",
    "        \n",
    "        outname = outname+'.pptx'\n",
    "        self.prs.save(outname)\n",
    "\n",
    "\n",
    "    def get_slide_images(self):\n",
    "        r = requests.get(self.url)\n",
    "        if r.status_code == 200:\n",
    "            soup = BeautifulSoup(r.text)\n",
    "            slides = soup.findAll([\"section\",\"div\"], {\"class\":re.compile(\"^(slide|slide(\\s*?)show)$\")})\n",
    "\n",
    "            for i, slide in enumerate(slides):\n",
    "                img_link = slide.find('img', {'class': re.compile(\"slide_image\") })\n",
    "                img_link_full = img_link['data-full']\n",
    "\n",
    "                image=urllib.URLopener()\n",
    "                name = str(i)+'.png'\n",
    "                image.retrieve(img_link_full,name)\n",
    "                \n",
    "                slide = self.prs.slides.add_slide(self.title_slide_layout)\n",
    "                left = top = Inches(0)\n",
    "                height = Inches(5.5)\n",
    "                slide.shapes.add_picture(name, left, top, height=height)\n",
    "                \n",
    "                os.remove(name)\n"
   ]
  },
  {
   "cell_type": "markdown",
   "metadata": {},
   "source": [
    "##2. To PPT"
   ]
  },
  {
   "cell_type": "code",
   "execution_count": 12,
   "metadata": {
    "collapsed": false
   },
   "outputs": [
    {
     "data": {
      "text/plain": [
       "<__main__.Slide_to_ppt instance at 0x000000000AE2CF48>"
      ]
     },
     "execution_count": 12,
     "metadata": {},
     "output_type": "execute_result"
    }
   ],
   "source": [
    "Slide_to_ppt(\"http://fr.slideshare.net/syndicateplus/theonlinegroceryshopperbysyndicateplus\", \"OnLine Grocery shoppers\")\n",
    "#Slide_to_ppt(\"http://fr.slideshare.net/ericschmidt/how-google-works-final-1\", \"How Google works - By Erics Schmidt\")\n"
   ]
  },
  {
   "cell_type": "code",
   "execution_count": null,
   "metadata": {
    "collapsed": true
   },
   "outputs": [],
   "source": []
  }
 ],
 "metadata": {
  "kernelspec": {
   "display_name": "Python 2",
   "language": "python",
   "name": "python2"
  },
  "language_info": {
   "codemirror_mode": {
    "name": "ipython",
    "version": 2
   },
   "file_extension": ".py",
   "mimetype": "text/x-python",
   "name": "python",
   "nbconvert_exporter": "python",
   "pygments_lexer": "ipython2",
   "version": "2.7.9"
  }
 },
 "nbformat": 4,
 "nbformat_minor": 0
}
